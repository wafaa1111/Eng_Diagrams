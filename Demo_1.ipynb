{
  "nbformat": 4,
  "nbformat_minor": 0,
  "metadata": {
    "colab": {
      "provenance": [],
      "mount_file_id": "1YgzkWu300UBAPHTFNpd32n4QknC1_IRc",
      "authorship_tag": "ABX9TyOScbab4N0l3zi15SHM0RMs",
      "include_colab_link": true
    },
    "kernelspec": {
      "name": "python3",
      "display_name": "Python 3"
    },
    "language_info": {
      "name": "python"
    }
  },
  "cells": [
    {
      "cell_type": "markdown",
      "metadata": {
        "id": "view-in-github",
        "colab_type": "text"
      },
      "source": [
        "<a href=\"https://colab.research.google.com/github/wafaa1111/Eng_Diagrams/blob/master/Demo_1.ipynb\" target=\"_parent\"><img src=\"https://colab.research.google.com/assets/colab-badge.svg\" alt=\"Open In Colab\"/></a>"
      ]
    },
    {
      "cell_type": "markdown",
      "source": [
        "### Task 1- AI Diploma\n",
        "\n",
        "This notebook, is created by Wafa Alnuaimi. And it will implement NN using the MNIST fashion dataset.\n"
      ],
      "metadata": {
        "id": "SnX8DaO4pE66"
      }
    },
    {
      "cell_type": "code",
      "execution_count": 5,
      "metadata": {
        "id": "k3s6dBnb4L-J"
      },
      "outputs": [],
      "source": [
        "import tensorflow as tf\n",
        "from tensorflow import keras"
      ]
    },
    {
      "cell_type": "markdown",
      "source": [
        "\n",
        "```\n",
        "\n",
        "If the module is not defind then do the follwing :\n",
        "\n",
        "'''!pip install module_name'''\n",
        "\n",
        "\n"
      ],
      "metadata": {
        "id": "EolNcQ9xBXhb"
      }
    },
    {
      "cell_type": "markdown",
      "source": [
        "\n",
        "\n",
        "## Load the dataset"
      ],
      "metadata": {
        "id": "0RKz2bt6DaM6"
      }
    },
    {
      "cell_type": "code",
      "source": [
        "fashion_mnist = keras.datasets.fashion_mnist\n",
        "(X_train_full,y_train_full),(X_test,y_test) = fashion_mnist.load_data()"
      ],
      "metadata": {
        "id": "Sdz3sr-C9og2",
        "colab": {
          "base_uri": "https://localhost:8080/"
        },
        "outputId": "63c769c1-0c40-4ab4-9b8e-fc412c001665"
      },
      "execution_count": 6,
      "outputs": [
        {
          "output_type": "stream",
          "name": "stdout",
          "text": [
            "Downloading data from https://storage.googleapis.com/tensorflow/tf-keras-datasets/train-labels-idx1-ubyte.gz\n",
            "29515/29515 [==============================] - 0s 0us/step\n",
            "Downloading data from https://storage.googleapis.com/tensorflow/tf-keras-datasets/train-images-idx3-ubyte.gz\n",
            "26421880/26421880 [==============================] - 0s 0us/step\n",
            "Downloading data from https://storage.googleapis.com/tensorflow/tf-keras-datasets/t10k-labels-idx1-ubyte.gz\n",
            "5148/5148 [==============================] - 0s 0us/step\n",
            "Downloading data from https://storage.googleapis.com/tensorflow/tf-keras-datasets/t10k-images-idx3-ubyte.gz\n",
            "4422102/4422102 [==============================] - 0s 0us/step\n"
          ]
        }
      ]
    },
    {
      "cell_type": "code",
      "source": [
        "X_train_full.shape\n"
      ],
      "metadata": {
        "colab": {
          "base_uri": "https://localhost:8080/"
        },
        "id": "eVgjVufyCTv8",
        "outputId": "c4a466f1-d733-4810-c7f1-08cd58e9c02d"
      },
      "execution_count": 7,
      "outputs": [
        {
          "output_type": "execute_result",
          "data": {
            "text/plain": [
              "(60000, 28, 28)"
            ]
          },
          "metadata": {},
          "execution_count": 7
        }
      ]
    },
    {
      "cell_type": "code",
      "source": [
        "X_test.shape"
      ],
      "metadata": {
        "colab": {
          "base_uri": "https://localhost:8080/"
        },
        "id": "JALRjwsMd0BI",
        "outputId": "480067a2-f5a7-4d0c-d929-8fab998e7ef4"
      },
      "execution_count": 8,
      "outputs": [
        {
          "output_type": "execute_result",
          "data": {
            "text/plain": [
              "(10000, 28, 28)"
            ]
          },
          "metadata": {},
          "execution_count": 8
        }
      ]
    },
    {
      "cell_type": "markdown",
      "source": [
        "We can create a validation set, which is a good practise to ensure that our model can generalise well across other unseen examples."
      ],
      "metadata": {
        "id": "FhPw8y6Yk0iu"
      }
    },
    {
      "cell_type": "code",
      "source": [
        "x_valid, X_train = X_train_full[:5000]/255.0, X_train_full[5000:]/255.0\n",
        "y_valid, y_train = y_train_full[:5000], y_train_full[5000:] \n"
      ],
      "metadata": {
        "id": "gTsKVjdOFY2p"
      },
      "execution_count": 9,
      "outputs": []
    },
    {
      "cell_type": "code",
      "source": [
        "x_valid.shape"
      ],
      "metadata": {
        "colab": {
          "base_uri": "https://localhost:8080/"
        },
        "id": "GeWra74gelCO",
        "outputId": "f30297c6-14fd-4895-e775-c9267fa2201f"
      },
      "execution_count": 10,
      "outputs": [
        {
          "output_type": "execute_result",
          "data": {
            "text/plain": [
              "(5000, 28, 28)"
            ]
          },
          "metadata": {},
          "execution_count": 10
        }
      ]
    },
    {
      "cell_type": "code",
      "source": [
        "X_train.shape"
      ],
      "metadata": {
        "colab": {
          "base_uri": "https://localhost:8080/"
        },
        "id": "zDBJFwG6e1rn",
        "outputId": "7fd9a2c8-9622-4031-ec65-a1157b841b9d"
      },
      "execution_count": 11,
      "outputs": [
        {
          "output_type": "execute_result",
          "data": {
            "text/plain": [
              "(55000, 28, 28)"
            ]
          },
          "metadata": {},
          "execution_count": 11
        }
      ]
    },
    {
      "cell_type": "markdown",
      "source": [
        "The class names in the dataest are defined as follows:"
      ],
      "metadata": {
        "id": "hP662jCslXiY"
      }
    },
    {
      "cell_type": "code",
      "source": [
        "class_names = ['T-shirt/top','Trouser','Pullover','Dress','Coat','Sandal',\n",
        "              'Shirt','Sneaker','Bag','Ankle boot']"
      ],
      "metadata": {
        "id": "yWoruLtyFr_t"
      },
      "execution_count": 12,
      "outputs": []
    },
    {
      "cell_type": "code",
      "source": [
        "len(class_names)"
      ],
      "metadata": {
        "colab": {
          "base_uri": "https://localhost:8080/"
        },
        "id": "5cqdZKHmhjlf",
        "outputId": "ba9d4320-f1c5-41fa-94d6-97d4676fcae6"
      },
      "execution_count": 13,
      "outputs": [
        {
          "output_type": "execute_result",
          "data": {
            "text/plain": [
              "10"
            ]
          },
          "metadata": {},
          "execution_count": 13
        }
      ]
    },
    {
      "cell_type": "code",
      "source": [
        "#check the the class of the first 10 images \n",
        "for i in range(15):\n",
        "    print(f'The class of image {i} is {class_names[y_train[0]]}')"
      ],
      "metadata": {
        "colab": {
          "base_uri": "https://localhost:8080/"
        },
        "id": "UJpHg9ZvF7QX",
        "outputId": "e588063b-0e90-4a1c-b2ed-4b1cf8f257fb"
      },
      "execution_count": 14,
      "outputs": [
        {
          "output_type": "stream",
          "name": "stdout",
          "text": [
            "The class of image 0 is Coat\n",
            "The class of image 1 is Coat\n",
            "The class of image 2 is Coat\n",
            "The class of image 3 is Coat\n",
            "The class of image 4 is Coat\n",
            "The class of image 5 is Coat\n",
            "The class of image 6 is Coat\n",
            "The class of image 7 is Coat\n",
            "The class of image 8 is Coat\n",
            "The class of image 9 is Coat\n",
            "The class of image 10 is Coat\n",
            "The class of image 11 is Coat\n",
            "The class of image 12 is Coat\n",
            "The class of image 13 is Coat\n",
            "The class of image 14 is Coat\n"
          ]
        }
      ]
    },
    {
      "cell_type": "code",
      "source": [
        "from matplotlib import pyplot\n",
        "#lets show some of these images \n",
        "for i in range(9):\n",
        "\n",
        "    pyplot.subplot(330 + 1 + i)\n",
        "    pyplot.imshow(X_train[i], cmap=pyplot.get_cmap('gray'))\n",
        "# show the figure\n",
        "pyplot.show()"
      ],
      "metadata": {
        "colab": {
          "base_uri": "https://localhost:8080/",
          "height": 268
        },
        "id": "yVltZDS6F83E",
        "outputId": "07ac1063-fefb-4798-8d21-5efcca391df6"
      },
      "execution_count": 15,
      "outputs": [
        {
          "output_type": "display_data",
          "data": {
            "text/plain": [
              "<Figure size 432x288 with 9 Axes>"
            ],
            "image/png": "[encoded data removed]"
          },
          "metadata": {
            "needs_background": "light"
          }
        }
      ]
    },
    {
      "cell_type": "code",
      "source": [
        "#pip install matplotlib"
      ],
      "metadata": {
        "id": "Obo4xdZhljQu"
      },
      "execution_count": 16,
      "outputs": []
    },
    {
      "cell_type": "markdown",
      "source": [
        "## Build Neural Network\n",
        "New Section\n",
        "Note how keras makes building the Neural Network model, easy and self-explanatory\n"
      ],
      "metadata": {
        "id": "-MbO9QxIw2Hm"
      }
    },
    {
      "cell_type": "code",
      "source": [
        "# create a neural network model using keras\n",
        "model = keras.models.Sequential()\n",
        "\n",
        "# build the first layer, this is the input layer. Note, that flatten converts the 28 by 28 image into 1D array\n",
        "model.add(keras.layers.Flatten(input_shape=[28,28]))\n",
        "\n",
        "# add a hidden layer with 300 neurons \n",
        "model.add(keras.layers.Dense(300,activation='relu'))\n",
        "\n",
        "# add another hidden layer with 100 neurons\n",
        "model.add(keras.layers.Dense(100,activation='relu'))\n",
        "\n",
        "# add output layer (note we have 10 outputs representing 10 classes)\n",
        "model.add(keras.layers.Dense(10,activation='softmax'))"
      ],
      "metadata": {
        "id": "A6C2JrSrx6Ks"
      },
      "execution_count": 22,
      "outputs": []
    },
    {
      "cell_type": "markdown",
      "source": [
        "OK, lets check how our model looks like, you can simply using the following function: \n"
      ],
      "metadata": {
        "id": "WyxuFdBYyc1B"
      }
    },
    {
      "cell_type": "code",
      "source": [
        "model.summary()"
      ],
      "metadata": {
        "colab": {
          "base_uri": "https://localhost:8080/"
        },
        "id": "Z_2mmou7ykXM",
        "outputId": "e672b3a9-df73-4087-ca8d-4783b7ecf43b"
      },
      "execution_count": 23,
      "outputs": [
        {
          "output_type": "stream",
          "name": "stdout",
          "text": [
            "Model: \"sequential\"\n",
            "_________________________________________________________________\n",
            " Layer (type)                Output Shape              Param #   \n",
            "=================================================================\n",
            " flatten (Flatten)           (None, 784)               0         \n",
            "                                                                 \n",
            " dense (Dense)               (None, 300)               235500    \n",
            "                                                                 \n",
            " dense_1 (Dense)             (None, 100)               30100     \n",
            "                                                                 \n",
            " dense_2 (Dense)             (None, 10)                1010      \n",
            "                                                                 \n",
            "=================================================================\n",
            "Total params: 266,610\n",
            "Trainable params: 266,610\n",
            "Non-trainable params: 0\n",
            "_________________________________________________________________\n"
          ]
        }
      ]
    },
    {
      "cell_type": "markdown",
      "source": [
        "Recall, we said that the weights are ranomly initialised, you can check the weights using the following function: \n",
        "    "
      ],
      "metadata": {
        "id": "p4mBwSlnyySk"
      }
    },
    {
      "cell_type": "code",
      "source": [
        "weights, biases = model.layers[1].get_weights()"
      ],
      "metadata": {
        "id": "cge9HaUAy6kB"
      },
      "execution_count": 24,
      "outputs": []
    },
    {
      "cell_type": "code",
      "source": [
        "weights"
      ],
      "metadata": {
        "colab": {
          "base_uri": "https://localhost:8080/"
        },
        "id": "13cEkvbkzAbB",
        "outputId": "ff7354a7-1228-47d6-87d0-17c57d9a9ab2"
      },
      "execution_count": 25,
      "outputs": [
        {
          "output_type": "execute_result",
          "data": {
            "text/plain": [
              "array([[ 0.01830942, -0.03075471,  0.03787655, ..., -0.02245375,\n",
              "         0.05852798, -0.05878463],\n",
              "       [-0.02297261, -0.02874072, -0.00715622, ..., -0.07093877,\n",
              "        -0.06978346,  0.03324416],\n",
              "       [ 0.07298565, -0.06475968,  0.03547186, ..., -0.05129849,\n",
              "         0.03150219,  0.01849232],\n",
              "       ...,\n",
              "       [ 0.05950014, -0.04745896, -0.04971039, ...,  0.01146128,\n",
              "        -0.00673547, -0.0099716 ],\n",
              "       [-0.06664661,  0.03201443, -0.04043443, ...,  0.04728146,\n",
              "         0.03603323,  0.06384134],\n",
              "       [-0.04904689,  0.03524061,  0.0173841 , ..., -0.02421139,\n",
              "         0.0335528 ,  0.06970035]], dtype=float32)"
            ]
          },
          "metadata": {},
          "execution_count": 25
        }
      ]
    },
    {
      "cell_type": "code",
      "source": [
        "biases"
      ],
      "metadata": {
        "colab": {
          "base_uri": "https://localhost:8080/"
        },
        "id": "HEOwlfxpzMhf",
        "outputId": "6709995f-c4c8-4f66-f649-3117d065e01c"
      },
      "execution_count": 26,
      "outputs": [
        {
          "output_type": "execute_result",
          "data": {
            "text/plain": [
              "array([0., 0., 0., 0., 0., 0., 0., 0., 0., 0., 0., 0., 0., 0., 0., 0., 0.,\n",
              "       0., 0., 0., 0., 0., 0., 0., 0., 0., 0., 0., 0., 0., 0., 0., 0., 0.,\n",
              "       0., 0., 0., 0., 0., 0., 0., 0., 0., 0., 0., 0., 0., 0., 0., 0., 0.,\n",
              "       0., 0., 0., 0., 0., 0., 0., 0., 0., 0., 0., 0., 0., 0., 0., 0., 0.,\n",
              "       0., 0., 0., 0., 0., 0., 0., 0., 0., 0., 0., 0., 0., 0., 0., 0., 0.,\n",
              "       0., 0., 0., 0., 0., 0., 0., 0., 0., 0., 0., 0., 0., 0., 0., 0., 0.,\n",
              "       0., 0., 0., 0., 0., 0., 0., 0., 0., 0., 0., 0., 0., 0., 0., 0., 0.,\n",
              "       0., 0., 0., 0., 0., 0., 0., 0., 0., 0., 0., 0., 0., 0., 0., 0., 0.,\n",
              "       0., 0., 0., 0., 0., 0., 0., 0., 0., 0., 0., 0., 0., 0., 0., 0., 0.,\n",
              "       0., 0., 0., 0., 0., 0., 0., 0., 0., 0., 0., 0., 0., 0., 0., 0., 0.,\n",
              "       0., 0., 0., 0., 0., 0., 0., 0., 0., 0., 0., 0., 0., 0., 0., 0., 0.,\n",
              "       0., 0., 0., 0., 0., 0., 0., 0., 0., 0., 0., 0., 0., 0., 0., 0., 0.,\n",
              "       0., 0., 0., 0., 0., 0., 0., 0., 0., 0., 0., 0., 0., 0., 0., 0., 0.,\n",
              "       0., 0., 0., 0., 0., 0., 0., 0., 0., 0., 0., 0., 0., 0., 0., 0., 0.,\n",
              "       0., 0., 0., 0., 0., 0., 0., 0., 0., 0., 0., 0., 0., 0., 0., 0., 0.,\n",
              "       0., 0., 0., 0., 0., 0., 0., 0., 0., 0., 0., 0., 0., 0., 0., 0., 0.,\n",
              "       0., 0., 0., 0., 0., 0., 0., 0., 0., 0., 0., 0., 0., 0., 0., 0., 0.,\n",
              "       0., 0., 0., 0., 0., 0., 0., 0., 0., 0., 0.], dtype=float32)"
            ]
          },
          "metadata": {},
          "execution_count": 26
        }
      ]
    },
    {
      "cell_type": "markdown",
      "source": [
        "#### Compiling the Model"
      ],
      "metadata": {
        "id": "Ur--W9fEzY0z"
      }
    },
    {
      "cell_type": "code",
      "source": [
        "model.compile(loss = 'sparse_categorical_crossentropy',\n",
        "             optimizer='sgd',\n",
        "             metrics='accuracy')"
      ],
      "metadata": {
        "id": "C6FpZtJEzfC_"
      },
      "execution_count": 27,
      "outputs": []
    },
    {
      "cell_type": "markdown",
      "source": [
        "Notice that to start the training (fitting the model), we pass the X_train, and the class labels (y_train), as well as the number of epochs (discussed in the class), and here we use the optimizer 'sgd', which is the Stochastic Gradient Descent, and finally, we set the evaluation metric to be the accuracy (number of correctly classified examples)"
      ],
      "metadata": {
        "id": "kqP7ocLpzloJ"
      }
    },
    {
      "cell_type": "code",
      "source": [
        "#training\n",
        "history = model.fit(X_train, y_train, epochs=30,\n",
        "                   validation_data=(x_valid, y_valid))"
      ],
      "metadata": {
        "colab": {
          "base_uri": "https://localhost:8080/"
        },
        "id": "l0IeXFQdzvEC",
        "outputId": "70cb5642-b36c-4d35-c97e-f767cf54891b"
      },
      "execution_count": 28,
      "outputs": [
        {
          "output_type": "stream",
          "name": "stdout",
          "text": [
            "Epoch 1/30\n",
            "1719/1719 [==============================] - 11s 6ms/step - loss: 0.7146 - accuracy: 0.7653 - val_loss: 0.5133 - val_accuracy: 0.8264\n",
            "Epoch 2/30\n",
            "1719/1719 [==============================] - 9s 5ms/step - loss: 0.4845 - accuracy: 0.8297 - val_loss: 0.4412 - val_accuracy: 0.8524\n",
            "Epoch 3/30\n",
            "1719/1719 [==============================] - 10s 6ms/step - loss: 0.4400 - accuracy: 0.8462 - val_loss: 0.4288 - val_accuracy: 0.8478\n",
            "Epoch 4/30\n",
            "1719/1719 [==============================] - 10s 6ms/step - loss: 0.4139 - accuracy: 0.8539 - val_loss: 0.4016 - val_accuracy: 0.8618\n",
            "Epoch 5/30\n",
            "1719/1719 [==============================] - 9s 5ms/step - loss: 0.3929 - accuracy: 0.8621 - val_loss: 0.3876 - val_accuracy: 0.8668\n",
            "Epoch 6/30\n",
            "1719/1719 [==============================] - 9s 5ms/step - loss: 0.3777 - accuracy: 0.8670 - val_loss: 0.3836 - val_accuracy: 0.8668\n",
            "Epoch 7/30\n",
            "1719/1719 [==============================] - 9s 5ms/step - loss: 0.3629 - accuracy: 0.8707 - val_loss: 0.3775 - val_accuracy: 0.8664\n",
            "Epoch 8/30\n",
            "1719/1719 [==============================] - 9s 5ms/step - loss: 0.3519 - accuracy: 0.8754 - val_loss: 0.3779 - val_accuracy: 0.8674\n",
            "Epoch 9/30\n",
            "1719/1719 [==============================] - 9s 5ms/step - loss: 0.3421 - accuracy: 0.8778 - val_loss: 0.3588 - val_accuracy: 0.8756\n",
            "Epoch 10/30\n",
            "1719/1719 [==============================] - 8s 5ms/step - loss: 0.3312 - accuracy: 0.8822 - val_loss: 0.3491 - val_accuracy: 0.8752\n",
            "Epoch 11/30\n",
            "1719/1719 [==============================] - 9s 6ms/step - loss: 0.3235 - accuracy: 0.8839 - val_loss: 0.3421 - val_accuracy: 0.8778\n",
            "Epoch 12/30\n",
            "1719/1719 [==============================] - 9s 5ms/step - loss: 0.3158 - accuracy: 0.8866 - val_loss: 0.3414 - val_accuracy: 0.8768\n",
            "Epoch 13/30\n",
            "1719/1719 [==============================] - 8s 5ms/step - loss: 0.3086 - accuracy: 0.8885 - val_loss: 0.3348 - val_accuracy: 0.8784\n",
            "Epoch 14/30\n",
            "1719/1719 [==============================] - 9s 5ms/step - loss: 0.3004 - accuracy: 0.8903 - val_loss: 0.3386 - val_accuracy: 0.8806\n",
            "Epoch 15/30\n",
            "1719/1719 [==============================] - 10s 6ms/step - loss: 0.2951 - accuracy: 0.8935 - val_loss: 0.3176 - val_accuracy: 0.8874\n",
            "Epoch 16/30\n",
            "1719/1719 [==============================] - 9s 5ms/step - loss: 0.2885 - accuracy: 0.8957 - val_loss: 0.3203 - val_accuracy: 0.8850\n",
            "Epoch 17/30\n",
            "1719/1719 [==============================] - 9s 5ms/step - loss: 0.2825 - accuracy: 0.8992 - val_loss: 0.3143 - val_accuracy: 0.8872\n",
            "Epoch 18/30\n",
            "1719/1719 [==============================] - 9s 5ms/step - loss: 0.2771 - accuracy: 0.8992 - val_loss: 0.3117 - val_accuracy: 0.8864\n",
            "Epoch 19/30\n",
            "1719/1719 [==============================] - 9s 5ms/step - loss: 0.2713 - accuracy: 0.9014 - val_loss: 0.3350 - val_accuracy: 0.8778\n",
            "Epoch 20/30\n",
            "1719/1719 [==============================] - 10s 6ms/step - loss: 0.2668 - accuracy: 0.9027 - val_loss: 0.3057 - val_accuracy: 0.8906\n",
            "Epoch 21/30\n",
            "1719/1719 [==============================] - 9s 5ms/step - loss: 0.2612 - accuracy: 0.9056 - val_loss: 0.3087 - val_accuracy: 0.8886\n",
            "Epoch 22/30\n",
            "1719/1719 [==============================] - 10s 6ms/step - loss: 0.2566 - accuracy: 0.9078 - val_loss: 0.3043 - val_accuracy: 0.8900\n",
            "Epoch 23/30\n",
            "1719/1719 [==============================] - 8s 5ms/step - loss: 0.2508 - accuracy: 0.9101 - val_loss: 0.2985 - val_accuracy: 0.8946\n",
            "Epoch 24/30\n",
            "1719/1719 [==============================] - 9s 5ms/step - loss: 0.2480 - accuracy: 0.9103 - val_loss: 0.3194 - val_accuracy: 0.8860\n",
            "Epoch 25/30\n",
            "1719/1719 [==============================] - 12s 7ms/step - loss: 0.2432 - accuracy: 0.9122 - val_loss: 0.2972 - val_accuracy: 0.8892\n",
            "Epoch 26/30\n",
            "1719/1719 [==============================] - 10s 6ms/step - loss: 0.2390 - accuracy: 0.9135 - val_loss: 0.2961 - val_accuracy: 0.8886\n",
            "Epoch 27/30\n",
            "1719/1719 [==============================] - 9s 5ms/step - loss: 0.2356 - accuracy: 0.9153 - val_loss: 0.2894 - val_accuracy: 0.8974\n",
            "Epoch 28/30\n",
            "1719/1719 [==============================] - 11s 6ms/step - loss: 0.2314 - accuracy: 0.9160 - val_loss: 0.2881 - val_accuracy: 0.8964\n",
            "Epoch 29/30\n",
            "1719/1719 [==============================] - 10s 6ms/step - loss: 0.2274 - accuracy: 0.9172 - val_loss: 0.3025 - val_accuracy: 0.8896\n",
            "Epoch 30/30\n",
            "1719/1719 [==============================] - 11s 6ms/step - loss: 0.2237 - accuracy: 0.9202 - val_loss: 0.3097 - val_accuracy: 0.8880\n"
          ]
        }
      ]
    },
    {
      "cell_type": "markdown",
      "source": [
        "Another thing to note is that we pass the validation set. You will notice that keras at each epoch during the training process display the number of instances processed, the mean training time per instance, and the loss and accuracy. A good model should show a decreasing loss value over time as well as increase in accuracy."
      ],
      "metadata": {
        "id": "-wZDYE1S0oUB"
      }
    },
    {
      "cell_type": "markdown",
      "source": [
        "The fit() function returns a History object that contains the training parameters (history.params), the list of epochs it went through (history.epoch), and a history dictionary (history.history) containing the loss and extra metrics. This is particularly useful to display the loss plots, and assess if the model is overfitting or not as can be seen below:"
      ],
      "metadata": {
        "id": "9LCysMQo0uRu"
      }
    },
    {
      "cell_type": "code",
      "source": [
        "import pandas as pd\n",
        "import matplotlib.pyplot as plt"
      ],
      "metadata": {
        "id": "0eaymXum0zKm"
      },
      "execution_count": 29,
      "outputs": []
    },
    {
      "cell_type": "code",
      "source": [
        "pd.DataFrame(history.history).plot(figsize=(5,5))\n",
        "plt.grid(True)\n",
        "plt.gca().set_ylim(0,1) # set the range between 0 to 1\n",
        "plt.show()"
      ],
      "metadata": {
        "colab": {
          "base_uri": "https://localhost:8080/",
          "height": 324
        },
        "id": "vz3wOeRa09Gr",
        "outputId": "3a8dc3d7-26df-40d7-8efc-a060bd0d9573"
      },
      "execution_count": 30,
      "outputs": [
        {
          "output_type": "display_data",
          "data": {
            "text/plain": [
              "<Figure size 360x360 with 1 Axes>"
            ],
            "image/png": "[encoded data removed]"
          },
          "metadata": {
            "needs_background": "light"
          }
        }
      ]
    },
    {
      "cell_type": "markdown",
      "source": [
        "Have a closer look at the training and validation accuracy as well as training and validation losses. These values over the various epochs tell you how stable your model is"
      ],
      "metadata": {
        "id": "voZ0jlhL1IiP"
      }
    },
    {
      "cell_type": "markdown",
      "source": [
        "# Testing your Model\n",
        "\n",
        "Although the model seems to be stable and the results are relatively good, there are different ways to improve these results:\n",
        "\n",
        "\n",
        "*   Do some hyperparamter tunning (e.g. check the learning rate)\n",
        "\n",
        "*   You may change the number of layers\n",
        "\n",
        "*   Change the number of neurons in each layer\n",
        "\n",
        "*   Change the batch size, this can be set in the fit() method using the parameter batch_size argument (notice that the default value is 32\n",
        "\n",
        "*   You can also try different optimisers other than sgd, one very popular optimiser is the adam optimiser\n",
        "*   Collect more data,\n",
        "And other methods\n",
        "\n",
        "\n",
        "You may try to apply some changes and re-fit your model. However, for now, we will assume that we are happy with this training results. The following step in building your first neural network, is to test the model using the testing set. This is very important step, and shows how can your model generalise across other unseen examples (images in this case). This step can be easily done using keras as follows:\n",
        "\n"
      ],
      "metadata": {
        "id": "_Rss94Pl1OgK"
      }
    },
    {
      "cell_type": "code",
      "source": [
        "# the function below returns accuracy and loss values of the model\n",
        "results = model.evaluate(X_test,y_test)"
      ],
      "metadata": {
        "colab": {
          "base_uri": "https://localhost:8080/"
        },
        "id": "cEBWPSzi2OdZ",
        "outputId": "77db34fc-4a07-42a9-85df-ad395f5ab073"
      },
      "execution_count": 31,
      "outputs": [
        {
          "output_type": "stream",
          "name": "stdout",
          "text": [
            "313/313 [==============================] - 1s 3ms/step - loss: 75.0885 - accuracy: 0.8369\n"
          ]
        }
      ]
    },
    {
      "cell_type": "code",
      "source": [
        "print(f'Accuracy of the Neural Network is {round(results[1],2)*100}%')"
      ],
      "metadata": {
        "colab": {
          "base_uri": "https://localhost:8080/"
        },
        "id": "xCKT-xLW2TzG",
        "outputId": "e2a8283e-8b5c-42bc-90b7-a7a074621448"
      },
      "execution_count": 32,
      "outputs": [
        {
          "output_type": "stream",
          "name": "stdout",
          "text": [
            "Accuracy of the Neural Network is 84.0%\n"
          ]
        }
      ]
    },
    {
      "cell_type": "markdown",
      "source": [
        "Now, you can also make predictions using the resulting model as follows: "
      ],
      "metadata": {
        "id": "fbxVKQm12akO"
      }
    },
    {
      "cell_type": "code",
      "source": [
        "# consider the first three imgaes in the testing set\n",
        "testing_images = X_test[:3]\n",
        "\n",
        "# use predict to classify the images above\n",
        "y_prob = model.predict(testing_images)\n",
        "y_prob.round(2)"
      ],
      "metadata": {
        "colab": {
          "base_uri": "https://localhost:8080/"
        },
        "id": "mmNP-V-_2oZO",
        "outputId": "b323bff7-b4ec-4cc7-c743-9526a3c57a1a"
      },
      "execution_count": 33,
      "outputs": [
        {
          "output_type": "stream",
          "name": "stdout",
          "text": [
            "1/1 [==============================] - 0s 129ms/step\n"
          ]
        },
        {
          "output_type": "execute_result",
          "data": {
            "text/plain": [
              "array([[0., 0., 0., 0., 0., 0., 0., 0., 0., 1.],\n",
              "       [0., 0., 1., 0., 0., 0., 0., 0., 0., 0.],\n",
              "       [0., 1., 0., 0., 0., 0., 0., 0., 0., 0.]], dtype=float32)"
            ]
          },
          "metadata": {},
          "execution_count": 33
        }
      ]
    },
    {
      "cell_type": "markdown",
      "source": [
        "If you look at the array above, you will notice that for each image the model estimates the probability per class, from class 0 to 9 (recall, we have 10 different classes in our dataset):\n",
        "\n",
        "*   The model estimates that the first image in the testing_images is of class 9\n",
        "\n",
        "*   Similarly, the second image is of class 2 and so on\n",
        "\n",
        "\n",
        "Instead, and if you only want the class with the highest estimated probability, then you can use the predict_classes() method as follows:"
      ],
      "metadata": {
        "id": "C6liQpNl2zUD"
      }
    },
    {
      "cell_type": "code",
      "source": [
        "import numpy as np\n",
        "y_pred = np.argmax(model.predict(testing_images), axis=-1)\n",
        "y_pred"
      ],
      "metadata": {
        "colab": {
          "base_uri": "https://localhost:8080/"
        },
        "id": "R1sW0v9O3LEV",
        "outputId": "431a149f-23bc-4abf-c437-a50157953b20"
      },
      "execution_count": 34,
      "outputs": [
        {
          "output_type": "stream",
          "name": "stdout",
          "text": [
            "1/1 [==============================] - 0s 54ms/step\n"
          ]
        },
        {
          "output_type": "execute_result",
          "data": {
            "text/plain": [
              "array([9, 2, 1])"
            ]
          },
          "metadata": {},
          "execution_count": 34
        }
      ]
    },
    {
      "cell_type": "code",
      "source": [
        "# Check the actual class names of the predicted test imgaes \n",
        "for i in range (len(testing_images)):\n",
        "    print (f'The class name of {y_pred[i]} is {class_names[y_pred[i]]}')"
      ],
      "metadata": {
        "colab": {
          "base_uri": "https://localhost:8080/"
        },
        "id": "_Yi4loYS3SqK",
        "outputId": "6a5fca62-6dbf-4b72-a524-0be984418030"
      },
      "execution_count": 35,
      "outputs": [
        {
          "output_type": "stream",
          "name": "stdout",
          "text": [
            "The class name of 9 is Ankle boot\n",
            "The class name of 2 is Pullover\n",
            "The class name of 1 is Trouser\n"
          ]
        }
      ]
    },
    {
      "cell_type": "code",
      "source": [
        "# You can further verify this by visualising these testing images \n",
        "pyplot.imshow(testing_images[0], cmap=pyplot.get_cmap('gray'))"
      ],
      "metadata": {
        "colab": {
          "base_uri": "https://localhost:8080/",
          "height": 283
        },
        "id": "oxDJoe5x3f6x",
        "outputId": "f8465a45-837f-432f-cabf-6b2910bfd26c"
      },
      "execution_count": 36,
      "outputs": [
        {
          "output_type": "execute_result",
          "data": {
            "text/plain": [
              "<matplotlib.image.AxesImage at 0x7f01bee53ca0>"
            ]
          },
          "metadata": {},
          "execution_count": 36
        },
        {
          "output_type": "display_data",
          "data": {
            "text/plain": [
              "<Figure size 432x288 with 1 Axes>"
            ],
            "image/png": "[encoded data removed]"
          },
          "metadata": {
            "needs_background": "light"
          }
        }
      ]
    },
    {
      "cell_type": "code",
      "source": [
        "pyplot.imshow(testing_images[1], cmap=pyplot.get_cmap('gray'))"
      ],
      "metadata": {
        "colab": {
          "base_uri": "https://localhost:8080/",
          "height": 283
        },
        "id": "qFkP4Hsm3hAT",
        "outputId": "1e08fd8a-52f3-4d21-a5b6-ad04645cf61a"
      },
      "execution_count": 38,
      "outputs": [
        {
          "output_type": "execute_result",
          "data": {
            "text/plain": [
              "<matplotlib.image.AxesImage at 0x7f01beee9220>"
            ]
          },
          "metadata": {},
          "execution_count": 38
        },
        {
          "output_type": "display_data",
          "data": {
            "text/plain": [
              "<Figure size 432x288 with 1 Axes>"
            ],
            "image/png": "[encoded data removed]"
          },
          "metadata": {
            "needs_background": "light"
          }
        }
      ]
    },
    {
      "cell_type": "code",
      "source": [
        "pyplot.imshow(testing_images[2], cmap=pyplot.get_cmap('gray'))"
      ],
      "metadata": {
        "colab": {
          "base_uri": "https://localhost:8080/",
          "height": 283
        },
        "id": "IcQx4pLj3q2d",
        "outputId": "2b371fbb-363f-429b-b00c-6dad8cc4240a"
      },
      "execution_count": 39,
      "outputs": [
        {
          "output_type": "execute_result",
          "data": {
            "text/plain": [
              "<matplotlib.image.AxesImage at 0x7f01bedde130>"
            ]
          },
          "metadata": {},
          "execution_count": 39
        },
        {
          "output_type": "display_data",
          "data": {
            "text/plain": [
              "<Figure size 432x288 with 1 Axes>"
            ],
            "image/png": "[encoded data removed]"
          },
          "metadata": {
            "needs_background": "light"
          }
        }
      ]
    },
    {
      "cell_type": "markdown",
      "source": [
        "THANK YOU ..."
      ],
      "metadata": {
        "id": "SUjLHtbi36cg"
      }
    }
  ]
}